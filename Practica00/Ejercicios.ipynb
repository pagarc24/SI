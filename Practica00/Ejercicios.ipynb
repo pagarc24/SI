{
 "cells": [
  {
   "cell_type": "markdown",
   "metadata": {},
   "source": [
    "## Resuelve los siguientes ejercicios en este archivo."
   ]
  },
  {
   "cell_type": "markdown",
   "metadata": {
    "vscode": {
     "languageId": "raw"
    }
   },
   "source": [
    "**PABLO GARCIA FERNANDEZ y YURIY CHABAN MARKEVYCH**"
   ]
  },
  {
   "cell_type": "markdown",
   "metadata": {},
   "source": [
    "**_Ejercicio 1_**. En esta primera práctica has de implementar un algoritmo de integración numérica basado\n",
    "en el método de Monte Carlo.\n",
    "Dada una función real e integrable de una sola variable f(x), y su integral F(x), la integral\n",
    "definida de f(x) entre a y b viene dada por la expresión\n",
    "\n",
    "<img src=\"Integral.jpg\">\n",
    "\n",
    "Como el cálculo simbólico de la integral F(x) puede ser muy difícil, se utilizan métodos numéricos\n",
    "que aproximan su valor utilizando la interpretación geométrica de la integral definida que se\n",
    "corresponde con el área bajo la curva f(x) entre a y b.\n",
    "Dada una función f(x) positiva en el intervalo x 2 [a; b] cuyo valor máximo es M dentro de\n",
    "ese intervalo, podemos definir un rectángulo de área (b - a) x M como el que se muestra en la\n",
    "figura para el intervalo [0; 2]. El método de Monte Carlo para el cálculo de la integral consiste\n",
    "en generar aleatoriamente puntos (en rojo en la figura) dentro de ese rectángulo y aproximar el\n",
    "valor de la integral por el porcentaje de puntos que caen por debajo de la función en cuestión:\n",
    "\n",
    "<img src=\"Integral2.jpg\">\n",
    "\n",
    "donde Ndebajo es el número de puntos (x; y) generados aleatoriamente cuya coordenada y es\n",
    "menor que el valor de la función f(x) para ese valor de x y Ntotal es el número total de puntos\n",
    "generados aleatoriamente dentro del rectángulo.\n",
    "\n",
    "Implementa en Python una función con la siguiente cabecera\n",
    "\n",
    "def integra_mc(fun, a, b, num_puntos=10000)\n",
    "\n",
    "Que calcule la integral de fun entre a y b por el método de Monte Carlo antes descrito, generando\n",
    "para ello num_puntos aleatoriamente. Puedes comprobar la corrección del resultado obtenido,\n",
    "comparándolo con el de aplicar la función scip.integrate.quad de Python.\n",
    "No es necesario que tu implementación resuelva el problema de forma general, es suficiente\n",
    "con que calcule el resultado para una función definida por ti que sea >= 0 en el intervalo [a; b] y\n",
    "que se pueda aplicar tanto a un número como a un array de numpy. Por ejemplo -x^(2)+ 4x en el intervalo [0; 4]\n",
    "\n",
    "<img src=\"Integral3.jpg\">"
   ]
  },
  {
   "cell_type": "code",
   "execution_count": 12,
   "metadata": {},
   "outputs": [
    {
     "name": "stdout",
     "output_type": "stream",
     "text": [
      "2.718933333333333\n",
      "2.666666666666667\n"
     ]
    }
   ],
   "source": [
    "# Escribe aquí la solución del ejercicio 1.\n",
    "import random\n",
    "def integra_mc(fun, a, b, num_puntos=10000):\n",
    "    n_debajo = 0\n",
    "    M = max(fun(a), fun(b))\n",
    "    \n",
    "    for i in range(num_puntos):\n",
    "        x = random.uniform(a, b)\n",
    "        f_x = fun(x)\n",
    "        y = random.uniform(0, M)\n",
    "        if y < f_x:\n",
    "            n_debajo += 1\n",
    "    res = (n_debajo/num_puntos) * (b-a) * M\n",
    "    return res\n",
    "\n",
    "def f(x):\n",
    "    return x**2\n",
    "\n",
    "import scipy\n",
    "print(integra_mc(f, 0, 2, 15000))\n",
    "print(scipy.integrate.quad(f, 0, 2)[0])"
   ]
  },
  {
   "cell_type": "markdown",
   "metadata": {},
   "source": [
    "**Ejercicio 2:** Crea dos funciones en Python que calcule el mínimo común múltiplo de dos números y el máximo común divisor de dos números."
   ]
  },
  {
   "cell_type": "code",
   "execution_count": 2,
   "metadata": {},
   "outputs": [
    {
     "name": "stdout",
     "output_type": "stream",
     "text": [
      "MCD 20 y 35 de libreria -> 5\n",
      "MCM 20 y 35 de libreria -> 140\n",
      "MCD 20 y 35 propios -> 5\n",
      "MCM 20 y 35 propios -> 140.0\n"
     ]
    }
   ],
   "source": [
    "# Escribe aquí la solución del ejercicio 2.\n",
    "from math import lcm #función de libreria, usada para comprobaciones\n",
    "def minimo_comun_multiplo(a,b):\n",
    "    return (a*b)/maximo_comun_divisor(a,b)\n",
    "\n",
    "from math import gcd #funcion de libreria, usada para comprobaciones\n",
    "def maximo_comun_divisor(a,b):\n",
    "    div_a = divisores(a)\n",
    "    div_b = divisores(b)\n",
    "    #conjunto (interjeccion) de ambas listas y sacamos el mayor elemento\n",
    "    div_ab = list(set(div_a) & set(div_b))\n",
    "    return max(div_ab)\n",
    "\n",
    "def divisores(a):\n",
    "    dv = []\n",
    "    for e in range(1, a+1):\n",
    "        if a%e==0:\n",
    "            dv.append(e)\n",
    "    return dv\n",
    "\n",
    "print(f\"MCD 20 y 35 de libreria -> {gcd(20,35)}\")\n",
    "print(f\"MCM 20 y 35 de libreria -> {lcm(20,35)}\")\n",
    "print(f\"MCD 20 y 35 propios -> {maximo_comun_divisor(20,35)}\")\n",
    "print(f\"MCM 20 y 35 propios -> {minimo_comun_multiplo(20,35)}\")"
   ]
  },
  {
   "cell_type": "markdown",
   "metadata": {},
   "source": [
    "**Ejericico 3:** Crea usando POO la clase Figura y que hereden de ella la clase Cuadrilatero, Rectangulo, Rombo, Triangulo y Circulo. Usa la lógica para contruir las relaciones Es-Un de todas las clases. El código debe respetar las buenas prácticas de POO como por ejemplo encapsulacón, no repetir código innecesario, etc.\n",
    "\n",
    "Las clases deben tener los siguientes métodos:\n",
    "- Show() muestra la figura. Podeis optar por mostrarla usando alguna librería gráfica o simplemente por consola mostrando los valores de sus atributos.\n",
    "- Area() devuelve el área de la figura.\n",
    "- Equal(figura) devuelve True si dos figuras son iguales. Para que dós figuras sean iguales deben ser del mismo tipo, y además tener la misma forma (mismo área y dimensiones)\n",
    "- OrderByArea(figura) devuelve dos figuras, la actual y la que se le pasa por parámetro, pero la primera será la que magor área tiene y la segunda la que menor área tiene. Utiiza la habilidad de Python para devolver más de una valor en una función."
   ]
  },
  {
   "cell_type": "code",
   "execution_count": null,
   "metadata": {},
   "outputs": [],
   "source": []
  }
 ],
 "metadata": {
  "kernelspec": {
   "display_name": "Python 3",
   "language": "python",
   "name": "python3"
  },
  "language_info": {
   "codemirror_mode": {
    "name": "ipython",
    "version": 3
   },
   "file_extension": ".py",
   "mimetype": "text/x-python",
   "name": "python",
   "nbconvert_exporter": "python",
   "pygments_lexer": "ipython3",
   "version": "3.11.2"
  }
 },
 "nbformat": 4,
 "nbformat_minor": 4
}
