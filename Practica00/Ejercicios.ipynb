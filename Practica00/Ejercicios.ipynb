{
 "cells": [
  {
   "cell_type": "markdown",
   "metadata": {},
   "source": [
    "## Resuelve los siguientes ejercicios en este archivo."
   ]
  },
  {
   "cell_type": "markdown",
   "metadata": {
    "vscode": {
     "languageId": "raw"
    }
   },
   "source": [
    "**PABLO GARCIA FERNANDEZ y YURIY CHABAN MARKEVYCH**"
   ]
  },
  {
   "cell_type": "markdown",
   "metadata": {},
   "source": [
    "**_Ejercicio 1_**. En esta primera práctica has de implementar un algoritmo de integración numérica basado\n",
    "en el método de Monte Carlo.\n",
    "Dada una función real e integrable de una sola variable f(x), y su integral F(x), la integral\n",
    "definida de f(x) entre a y b viene dada por la expresión\n",
    "\n",
    "<img src=\"Integral.jpg\">\n",
    "\n",
    "Como el cálculo simbólico de la integral F(x) puede ser muy difícil, se utilizan métodos numéricos\n",
    "que aproximan su valor utilizando la interpretación geométrica de la integral definida que se\n",
    "corresponde con el área bajo la curva f(x) entre a y b.\n",
    "Dada una función f(x) positiva en el intervalo x 2 [a; b] cuyo valor máximo es M dentro de\n",
    "ese intervalo, podemos definir un rectángulo de área (b - a) x M como el que se muestra en la\n",
    "figura para el intervalo [0; 2]. El método de Monte Carlo para el cálculo de la integral consiste\n",
    "en generar aleatoriamente puntos (en rojo en la figura) dentro de ese rectángulo y aproximar el\n",
    "valor de la integral por el porcentaje de puntos que caen por debajo de la función en cuestión:\n",
    "\n",
    "<img src=\"Integral2.jpg\">\n",
    "\n",
    "donde Ndebajo es el número de puntos (x; y) generados aleatoriamente cuya coordenada y es\n",
    "menor que el valor de la función f(x) para ese valor de x y Ntotal es el número total de puntos\n",
    "generados aleatoriamente dentro del rectángulo.\n",
    "\n",
    "Implementa en Python una función con la siguiente cabecera\n",
    "\n",
    "def integra_mc(fun, a, b, num_puntos=10000)\n",
    "\n",
    "Que calcule la integral de fun entre a y b por el método de Monte Carlo antes descrito, generando\n",
    "para ello num_puntos aleatoriamente. Puedes comprobar la corrección del resultado obtenido,\n",
    "comparándolo con el de aplicar la función scip.integrate.quad de Python.\n",
    "No es necesario que tu implementación resuelva el problema de forma general, es suficiente\n",
    "con que calcule el resultado para una función definida por ti que sea >= 0 en el intervalo [a; b] y\n",
    "que se pueda aplicar tanto a un número como a un array de numpy. Por ejemplo -x^(2)+ 4x en el intervalo [0; 4]\n",
    "\n",
    "<img src=\"Integral3.jpg\">"
   ]
  },
  {
   "cell_type": "code",
   "execution_count": 5,
   "metadata": {},
   "outputs": [
    {
     "name": "stdout",
     "output_type": "stream",
     "text": [
      "2.632\n",
      "2.666666666666667\n"
     ]
    }
   ],
   "source": [
    "# Escribe aquí la solución del ejercicio 1.\n",
    "import random\n",
    "def integra_mc(fun, a, b, num_puntos=10000):\n",
    "    n_debajo = 0\n",
    "    M = maximo_valor_de_una_funcion_en_intervalo(fun, a, b)\n",
    "    \n",
    "    for i in range(num_puntos):\n",
    "        x = random.uniform(a, b)\n",
    "        f_x = fun(x)\n",
    "        y = random.uniform(0, M)\n",
    "        if y < f_x:\n",
    "            n_debajo += 1\n",
    "    res = (n_debajo/num_puntos) * (b-a) * M\n",
    "    return res\n",
    "\n",
    "def maximo_valor_de_una_funcion_en_intervalo(fun, a, b):\n",
    "    maximo = fun(a)\n",
    "    for i in range(a+1,b+1):\n",
    "        f_i = fun(i)\n",
    "        if f_i > maximo:\n",
    "            maximo = f_i\n",
    "    return maximo\n",
    "\n",
    "def f(x):\n",
    "    return x**2\n",
    "\n",
    "import scipy\n",
    "print(integra_mc(f, 0, 2, 15000))\n",
    "print(scipy.integrate.quad(f, 0, 2)[0])"
   ]
  },
  {
   "cell_type": "markdown",
   "metadata": {},
   "source": [
    "**Ejercicio 2:** Crea dos funciones en Python que calcule el mínimo común múltiplo de dos números y el máximo común divisor de dos números."
   ]
  },
  {
   "cell_type": "code",
   "execution_count": 2,
   "metadata": {},
   "outputs": [
    {
     "name": "stdout",
     "output_type": "stream",
     "text": [
      "MCD 20 y 35 de libreria -> 5\n",
      "MCM 20 y 35 de libreria -> 140\n",
      "MCD 20 y 35 propios -> 5\n",
      "MCM 20 y 35 propios -> 140.0\n"
     ]
    }
   ],
   "source": [
    "# Escribe aquí la solución del ejercicio 2.\n",
    "from math import lcm #función de libreria, usada para comprobaciones\n",
    "def minimo_comun_multiplo(a,b):\n",
    "    return (a*b)/maximo_comun_divisor(a,b)\n",
    "\n",
    "from math import gcd #funcion de libreria, usada para comprobaciones\n",
    "def maximo_comun_divisor(a,b):\n",
    "    div_a = divisores(a)\n",
    "    div_b = divisores(b)\n",
    "    #conjunto (interjeccion) de ambas listas y sacamos el mayor elemento\n",
    "    div_ab = list(set(div_a) & set(div_b))\n",
    "    return max(div_ab)\n",
    "\n",
    "def divisores(a):\n",
    "    dv = []\n",
    "    for e in range(1, a+1):\n",
    "        if a%e==0:\n",
    "            dv.append(e)\n",
    "    return dv\n",
    "\n",
    "print(f\"MCD 20 y 35 de libreria -> {gcd(20,35)}\")\n",
    "print(f\"MCM 20 y 35 de libreria -> {lcm(20,35)}\")\n",
    "print(f\"MCD 20 y 35 propios -> {maximo_comun_divisor(20,35)}\")\n",
    "print(f\"MCM 20 y 35 propios -> {minimo_comun_multiplo(20,35)}\")"
   ]
  },
  {
   "cell_type": "markdown",
   "metadata": {},
   "source": [
    "**Ejericico 3:** Crea usando POO la clase Figura y que hereden de ella la clase Cuadrilatero, Rectangulo, Rombo, Triangulo y Circulo. Usa la lógica para contruir las relaciones Es-Un de todas las clases. El código debe respetar las buenas prácticas de POO como por ejemplo encapsulacón, no repetir código innecesario, etc.\n",
    "\n",
    "Las clases deben tener los siguientes métodos:\n",
    "- Show() muestra la figura. Podeis optar por mostrarla usando alguna librería gráfica o simplemente por consola mostrando los valores de sus atributos.\n",
    "- Area() devuelve el área de la figura.\n",
    "- Equal(figura) devuelve True si dos figuras son iguales. Para que dós figuras sean iguales deben ser del mismo tipo, y además tener la misma forma (mismo área y dimensiones)\n",
    "- OrderByArea(figura) devuelve dos figuras, la actual y la que se le pasa por parámetro, pero la primera será la que magor área tiene y la segunda la que menor área tiene. Utiiza la habilidad de Python para devolver más de una valor en una función."
   ]
  },
  {
   "cell_type": "code",
   "execution_count": 15,
   "metadata": {},
   "outputs": [
    {
     "name": "stdout",
     "output_type": "stream",
     "text": [
      "Figura: Rectángulo, Lado 1: 4, Lado 2: 5\n",
      "Área del rectángulo: 20\n",
      "¿Son iguales rect1 y rect2? True\n",
      "Mayor área: Figura: Rectángulo, Lado 1: 4, Lado 2: 5, Menor área: Figura: Triángulo, Base: 3, Altura: 6, Área: 9.0\n",
      "Figura: Círculo, Radio: 2, Área: 12.566370614359172\n",
      "Figura: Rombo, Diagonal mayor 6.5, Diagonal menor 4, Área: 13.0\n"
     ]
    }
   ],
   "source": [
    "import math\n",
    "\n",
    "class Figura:\n",
    "    def __init__(self, nombre):\n",
    "        self._nombre = nombre\n",
    "\n",
    "    def show(self):\n",
    "        return f\"Figura: {self._nombre}\"\n",
    "\n",
    "    def area(self):\n",
    "        raise NotImplementedError(\"Este método debe ser implementado en las subclases.\")\n",
    "\n",
    "    def equal(self, figura):\n",
    "        return type(self) == type(figura) and self.area() == figura.area()\n",
    "\n",
    "    def order_by_area(self, figura):\n",
    "        return (self, figura) if self.area() >= figura.area() else (figura, self)\n",
    "\n",
    "class Cuadrilatero(Figura):\n",
    "    def __init__(self, nombre, lado1, lado2):\n",
    "        super().__init__(nombre)\n",
    "        self._lado1 = lado1\n",
    "        self._lado2 = lado2\n",
    "\n",
    "    def show(self):\n",
    "        return f\"{super().show()}, Lado 1: {self._lado1}, Lado 2: {self._lado2}\"\n",
    "\n",
    "    def area(self):\n",
    "        return self._lado1 * self._lado2\n",
    "\n",
    "class Rectangulo(Cuadrilatero):\n",
    "    def __init__(self, base, altura):\n",
    "        super().__init__(\"Rectángulo\", base, altura)\n",
    "\n",
    "class Rombo(Cuadrilatero):\n",
    "    def __init__(self, d1, d2):\n",
    "        self.diagonal_mayor = d1 if d1 > d2 else d2\n",
    "        self.diagonal_menor = d1 if d1 < d2 else d2\n",
    "        super().__init__(\"Rombo\", self.diagonal_mayor, self.diagonal_menor)\n",
    "\n",
    "    def area(self):\n",
    "        return (self._lado1 * self._lado2) / 2\n",
    "    \n",
    "    def show(self):\n",
    "        return f\"Figura: {self._nombre}, Diagonal mayor {self.diagonal_mayor}, Diagonal menor {self.diagonal_menor}, Área: {self.area()}\"\n",
    "\n",
    "class Triangulo(Figura):\n",
    "    def __init__(self, base, altura):\n",
    "        super().__init__(\"Triángulo\")\n",
    "        self._base = base\n",
    "        self._altura = altura\n",
    "\n",
    "    def show(self):\n",
    "        return f\"{super().show()}, Base: {self._base}, Altura: {self._altura}, Área: {self.area()}\"\n",
    "\n",
    "    def area(self):\n",
    "        return (self._base * self._altura) / 2\n",
    "\n",
    "class Circulo(Figura):\n",
    "    def __init__(self, radio):\n",
    "        super().__init__(\"Círculo\")\n",
    "        self._radio = radio\n",
    "\n",
    "    def show(self):\n",
    "        return f\"{super().show()}, Radio: {self._radio}, Área: {self.area()}\"\n",
    "\n",
    "    def area(self):\n",
    "        return math.pi * self._radio ** 2\n",
    "\n",
    "rect1 = Rectangulo(4, 5)\n",
    "rect2 = Rectangulo(4, 5)\n",
    "triang = Triangulo(3, 6)\n",
    "circulo = Circulo(2)\n",
    "\n",
    "print(rect1.show())\n",
    "print(f\"Área del rectángulo: {rect1.area()}\")\n",
    "print(f\"¿Son iguales rect1 y rect2? {rect1.equal(rect2)}\")\n",
    "\n",
    "figura1, figura2 = rect1.order_by_area(triang)\n",
    "print(f\"Mayor área: {figura1.show()}, Menor área: {figura2.show()}\")\n",
    "\n",
    "print(circulo.show())\n",
    "rombo = Rombo(4, 6.5)\n",
    "print(rombo.show())\n"
   ]
  }
 ],
 "metadata": {
  "kernelspec": {
   "display_name": "Python 3",
   "language": "python",
   "name": "python3"
  },
  "language_info": {
   "codemirror_mode": {
    "name": "ipython",
    "version": 3
   },
   "file_extension": ".py",
   "mimetype": "text/x-python",
   "name": "python",
   "nbconvert_exporter": "python",
   "pygments_lexer": "ipython3",
   "version": "3.11.2"
  }
 },
 "nbformat": 4,
 "nbformat_minor": 4
}
